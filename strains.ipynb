{
 "cells": [
  {
   "cell_type": "code",
   "execution_count": 4,
   "metadata": {},
   "outputs": [],
   "source": [
    "import pandas as pd "
   ]
  },
  {
   "cell_type": "code",
   "execution_count": 5,
   "metadata": {},
   "outputs": [],
   "source": [
    "path = r\"C:\\Users\\Cynthia Ndibe\\Desktop\\canna_strains\\strains_cleaned.csv\"\n",
    "df = pd.read_csv(path)"
   ]
  },
  {
   "cell_type": "code",
   "execution_count": 6,
   "metadata": {},
   "outputs": [
    {
     "data": {
      "text/html": [
       "<div>\n",
       "<style scoped>\n",
       "    .dataframe tbody tr th:only-of-type {\n",
       "        vertical-align: middle;\n",
       "    }\n",
       "\n",
       "    .dataframe tbody tr th {\n",
       "        vertical-align: top;\n",
       "    }\n",
       "\n",
       "    .dataframe thead th {\n",
       "        text-align: right;\n",
       "    }\n",
       "</style>\n",
       "<table border=\"1\" class=\"dataframe\">\n",
       "  <thead>\n",
       "    <tr style=\"text-align: right;\">\n",
       "      <th></th>\n",
       "      <th>Unnamed: 0</th>\n",
       "      <th>Name</th>\n",
       "      <th>Type</th>\n",
       "      <th>Alias</th>\n",
       "      <th>Rating</th>\n",
       "      <th>Num_Reviews</th>\n",
       "      <th>THC%</th>\n",
       "      <th>Other_Cannabinoids</th>\n",
       "      <th>Main_Effect</th>\n",
       "      <th>Terpene</th>\n",
       "    </tr>\n",
       "  </thead>\n",
       "  <tbody>\n",
       "    <tr>\n",
       "      <th>0</th>\n",
       "      <td>0</td>\n",
       "      <td>Ice Cream Cake</td>\n",
       "      <td>Indica</td>\n",
       "      <td>NaN</td>\n",
       "      <td>4.6</td>\n",
       "      <td>1039.0</td>\n",
       "      <td>THC 23%</td>\n",
       "      <td>CBG 1%</td>\n",
       "      <td>Sleepy</td>\n",
       "      <td>Caryophyllene</td>\n",
       "    </tr>\n",
       "    <tr>\n",
       "      <th>1</th>\n",
       "      <td>1</td>\n",
       "      <td>Gelato</td>\n",
       "      <td>Hybrid</td>\n",
       "      <td>aka Gelato 42, Larry Bird</td>\n",
       "      <td>4.6</td>\n",
       "      <td>2219.0</td>\n",
       "      <td>THC 16%</td>\n",
       "      <td>CBD 0%</td>\n",
       "      <td>Euphoric</td>\n",
       "      <td>Caryophyllene</td>\n",
       "    </tr>\n",
       "    <tr>\n",
       "      <th>2</th>\n",
       "      <td>2</td>\n",
       "      <td>Blue Dream</td>\n",
       "      <td>Hybrid</td>\n",
       "      <td>NaN</td>\n",
       "      <td>4.3</td>\n",
       "      <td>14300.0</td>\n",
       "      <td>THC 18%</td>\n",
       "      <td>CBD 0%</td>\n",
       "      <td>Creative</td>\n",
       "      <td>Myrcene</td>\n",
       "    </tr>\n",
       "    <tr>\n",
       "      <th>3</th>\n",
       "      <td>3</td>\n",
       "      <td>Sour Diesel</td>\n",
       "      <td>Sativa</td>\n",
       "      <td>aka Sour D, Sour Deez</td>\n",
       "      <td>4.3</td>\n",
       "      <td>8264.0</td>\n",
       "      <td>THC 19%</td>\n",
       "      <td>CBD 0%</td>\n",
       "      <td>Energetic</td>\n",
       "      <td>Caryophyllene</td>\n",
       "    </tr>\n",
       "  </tbody>\n",
       "</table>\n",
       "</div>"
      ],
      "text/plain": [
       "   Unnamed: 0            Name    Type                      Alias  Rating  \\\n",
       "0           0  Ice Cream Cake  Indica                        NaN     4.6   \n",
       "1           1          Gelato  Hybrid  aka Gelato 42, Larry Bird     4.6   \n",
       "2           2      Blue Dream  Hybrid                        NaN     4.3   \n",
       "3           3     Sour Diesel  Sativa      aka Sour D, Sour Deez     4.3   \n",
       "\n",
       "   Num_Reviews     THC% Other_Cannabinoids Main_Effect        Terpene  \n",
       "0       1039.0  THC 23%             CBG 1%      Sleepy  Caryophyllene  \n",
       "1       2219.0  THC 16%             CBD 0%    Euphoric  Caryophyllene  \n",
       "2      14300.0  THC 18%             CBD 0%    Creative        Myrcene  \n",
       "3       8264.0  THC 19%             CBD 0%   Energetic  Caryophyllene  "
      ]
     },
     "execution_count": 6,
     "metadata": {},
     "output_type": "execute_result"
    }
   ],
   "source": [
    "df.head(4)"
   ]
  },
  {
   "cell_type": "code",
   "execution_count": 7,
   "metadata": {},
   "outputs": [
    {
     "data": {
      "text/plain": [
       "(5120, 10)"
      ]
     },
     "execution_count": 7,
     "metadata": {},
     "output_type": "execute_result"
    }
   ],
   "source": [
    "df.shape"
   ]
  },
  {
   "cell_type": "code",
   "execution_count": 8,
   "metadata": {},
   "outputs": [
    {
     "name": "stdout",
     "output_type": "stream",
     "text": [
      "<class 'pandas.core.frame.DataFrame'>\n",
      "RangeIndex: 5120 entries, 0 to 5119\n",
      "Data columns (total 10 columns):\n",
      " #   Column              Non-Null Count  Dtype  \n",
      "---  ------              --------------  -----  \n",
      " 0   Unnamed: 0          5120 non-null   int64  \n",
      " 1   Name                5120 non-null   object \n",
      " 2   Type                5120 non-null   object \n",
      " 3   Alias               969 non-null    object \n",
      " 4   Rating              4443 non-null   float64\n",
      " 5   Num_Reviews         4443 non-null   float64\n",
      " 6   THC%                5120 non-null   object \n",
      " 7   Other_Cannabinoids  5120 non-null   object \n",
      " 8   Main_Effect         3978 non-null   object \n",
      " 9   Terpene             2404 non-null   object \n",
      "dtypes: float64(2), int64(1), object(7)\n",
      "memory usage: 400.1+ KB\n"
     ]
    }
   ],
   "source": [
    "df.info()"
   ]
  },
  {
   "cell_type": "code",
   "execution_count": 9,
   "metadata": {},
   "outputs": [
    {
     "data": {
      "text/plain": [
       "0       False\n",
       "1       False\n",
       "2       False\n",
       "3       False\n",
       "4       False\n",
       "        ...  \n",
       "5115    False\n",
       "5116    False\n",
       "5117    False\n",
       "5118    False\n",
       "5119    False\n",
       "Length: 5120, dtype: bool"
      ]
     },
     "execution_count": 9,
     "metadata": {},
     "output_type": "execute_result"
    }
   ],
   "source": [
    "df.duplicated()"
   ]
  },
  {
   "cell_type": "code",
   "execution_count": 10,
   "metadata": {},
   "outputs": [],
   "source": [
    "df.set_index('Name', inplace=True)\n",
    "\n",
    "# reset the index and dropped the unnamed:0 col so i can dictacte duplicate values"
   ]
  },
  {
   "cell_type": "code",
   "execution_count": 11,
   "metadata": {},
   "outputs": [
    {
     "data": {
      "text/html": [
       "<div>\n",
       "<style scoped>\n",
       "    .dataframe tbody tr th:only-of-type {\n",
       "        vertical-align: middle;\n",
       "    }\n",
       "\n",
       "    .dataframe tbody tr th {\n",
       "        vertical-align: top;\n",
       "    }\n",
       "\n",
       "    .dataframe thead th {\n",
       "        text-align: right;\n",
       "    }\n",
       "</style>\n",
       "<table border=\"1\" class=\"dataframe\">\n",
       "  <thead>\n",
       "    <tr style=\"text-align: right;\">\n",
       "      <th></th>\n",
       "      <th>Unnamed: 0</th>\n",
       "      <th>Type</th>\n",
       "      <th>Alias</th>\n",
       "      <th>Rating</th>\n",
       "      <th>Num_Reviews</th>\n",
       "      <th>THC%</th>\n",
       "      <th>Other_Cannabinoids</th>\n",
       "      <th>Main_Effect</th>\n",
       "      <th>Terpene</th>\n",
       "    </tr>\n",
       "    <tr>\n",
       "      <th>Name</th>\n",
       "      <th></th>\n",
       "      <th></th>\n",
       "      <th></th>\n",
       "      <th></th>\n",
       "      <th></th>\n",
       "      <th></th>\n",
       "      <th></th>\n",
       "      <th></th>\n",
       "      <th></th>\n",
       "    </tr>\n",
       "  </thead>\n",
       "  <tbody>\n",
       "    <tr>\n",
       "      <th>Ice Cream Cake</th>\n",
       "      <td>0</td>\n",
       "      <td>Indica</td>\n",
       "      <td>NaN</td>\n",
       "      <td>4.6</td>\n",
       "      <td>1039.0</td>\n",
       "      <td>THC 23%</td>\n",
       "      <td>CBG 1%</td>\n",
       "      <td>Sleepy</td>\n",
       "      <td>Caryophyllene</td>\n",
       "    </tr>\n",
       "    <tr>\n",
       "      <th>Gelato</th>\n",
       "      <td>1</td>\n",
       "      <td>Hybrid</td>\n",
       "      <td>aka Gelato 42, Larry Bird</td>\n",
       "      <td>4.6</td>\n",
       "      <td>2219.0</td>\n",
       "      <td>THC 16%</td>\n",
       "      <td>CBD 0%</td>\n",
       "      <td>Euphoric</td>\n",
       "      <td>Caryophyllene</td>\n",
       "    </tr>\n",
       "    <tr>\n",
       "      <th>Blue Dream</th>\n",
       "      <td>2</td>\n",
       "      <td>Hybrid</td>\n",
       "      <td>NaN</td>\n",
       "      <td>4.3</td>\n",
       "      <td>14300.0</td>\n",
       "      <td>THC 18%</td>\n",
       "      <td>CBD 0%</td>\n",
       "      <td>Creative</td>\n",
       "      <td>Myrcene</td>\n",
       "    </tr>\n",
       "  </tbody>\n",
       "</table>\n",
       "</div>"
      ],
      "text/plain": [
       "                Unnamed: 0    Type                      Alias  Rating  \\\n",
       "Name                                                                    \n",
       "Ice Cream Cake           0  Indica                        NaN     4.6   \n",
       "Gelato                   1  Hybrid  aka Gelato 42, Larry Bird     4.6   \n",
       "Blue Dream               2  Hybrid                        NaN     4.3   \n",
       "\n",
       "                Num_Reviews     THC% Other_Cannabinoids Main_Effect  \\\n",
       "Name                                                                  \n",
       "Ice Cream Cake       1039.0  THC 23%             CBG 1%      Sleepy   \n",
       "Gelato               2219.0  THC 16%             CBD 0%    Euphoric   \n",
       "Blue Dream          14300.0  THC 18%             CBD 0%    Creative   \n",
       "\n",
       "                      Terpene  \n",
       "Name                           \n",
       "Ice Cream Cake  Caryophyllene  \n",
       "Gelato          Caryophyllene  \n",
       "Blue Dream            Myrcene  "
      ]
     },
     "execution_count": 11,
     "metadata": {},
     "output_type": "execute_result"
    }
   ],
   "source": [
    "df.head(3)"
   ]
  },
  {
   "cell_type": "code",
   "execution_count": 12,
   "metadata": {},
   "outputs": [],
   "source": [
    "df.drop(columns=['Unnamed: 0','Alias'], inplace=True)"
   ]
  },
  {
   "cell_type": "code",
   "execution_count": 13,
   "metadata": {},
   "outputs": [
    {
     "data": {
      "text/plain": [
       "Name\n",
       "Ice Cream Cake            False\n",
       "Gelato                    False\n",
       "Blue Dream                False\n",
       "Sour Diesel               False\n",
       "Dosidos                   False\n",
       "                          ...  \n",
       "Crockett’s Sour Tangie     True\n",
       "Crockett’s Sour Tangie     True\n",
       "Crockett’s Sour Tangie     True\n",
       "Crockett’s Sour Tangie     True\n",
       "Crockett’s Sour Tangie     True\n",
       "Length: 5120, dtype: bool"
      ]
     },
     "execution_count": 13,
     "metadata": {},
     "output_type": "execute_result"
    }
   ],
   "source": [
    "df.duplicated()"
   ]
  },
  {
   "cell_type": "code",
   "execution_count": 14,
   "metadata": {},
   "outputs": [],
   "source": [
    "df.drop_duplicates(inplace=True)"
   ]
  },
  {
   "cell_type": "code",
   "execution_count": 15,
   "metadata": {},
   "outputs": [
    {
     "name": "stdout",
     "output_type": "stream",
     "text": [
      "<class 'pandas.core.frame.DataFrame'>\n",
      "Index: 3928 entries, Ice Cream Cake to Sweet Nina\n",
      "Data columns (total 7 columns):\n",
      " #   Column              Non-Null Count  Dtype  \n",
      "---  ------              --------------  -----  \n",
      " 0   Type                3928 non-null   object \n",
      " 1   Rating              3792 non-null   float64\n",
      " 2   Num_Reviews         3792 non-null   float64\n",
      " 3   THC%                3928 non-null   object \n",
      " 4   Other_Cannabinoids  3928 non-null   object \n",
      " 5   Main_Effect         3588 non-null   object \n",
      " 6   Terpene             2356 non-null   object \n",
      "dtypes: float64(2), object(5)\n",
      "memory usage: 245.5+ KB\n"
     ]
    }
   ],
   "source": [
    "df.info()"
   ]
  },
  {
   "cell_type": "code",
   "execution_count": 16,
   "metadata": {},
   "outputs": [],
   "source": [
    "df.reset_index(inplace=True) #reset the index back to original"
   ]
  },
  {
   "cell_type": "markdown",
   "metadata": {},
   "source": [
    "i assumed that the missing data in Rating was probably due to the unporpularity of the strain as the missing cells are also missing in the Num_Reviews . so i will fill them with the mean and then fill the corresponding Num_Review with 1. "
   ]
  },
  {
   "cell_type": "code",
   "execution_count": 17,
   "metadata": {},
   "outputs": [
    {
     "data": {
      "text/plain": [
       "4.453982067510548"
      ]
     },
     "execution_count": 17,
     "metadata": {},
     "output_type": "execute_result"
    }
   ],
   "source": [
    "df['Rating'].mean()"
   ]
  },
  {
   "cell_type": "code",
   "execution_count": 18,
   "metadata": {},
   "outputs": [],
   "source": [
    "#fill null values\n",
    "\n",
    "df['Rating'] = df['Rating'].fillna(4.5)\n",
    "\n",
    "df['Num_Reviews'] = df['Num_Reviews'].fillna(1.0)\n",
    "\n",
    "df['Main_Effect'] = df['Main_Effect'].fillna('None')\n",
    "\n",
    "df['Terpene'] = df['Terpene'].fillna('None')"
   ]
  },
  {
   "cell_type": "code",
   "execution_count": 19,
   "metadata": {},
   "outputs": [
    {
     "name": "stdout",
     "output_type": "stream",
     "text": [
      "<class 'pandas.core.frame.DataFrame'>\n",
      "RangeIndex: 3928 entries, 0 to 3927\n",
      "Data columns (total 8 columns):\n",
      " #   Column              Non-Null Count  Dtype  \n",
      "---  ------              --------------  -----  \n",
      " 0   Name                3928 non-null   object \n",
      " 1   Type                3928 non-null   object \n",
      " 2   Rating              3928 non-null   float64\n",
      " 3   Num_Reviews         3928 non-null   float64\n",
      " 4   THC%                3928 non-null   object \n",
      " 5   Other_Cannabinoids  3928 non-null   object \n",
      " 6   Main_Effect         3928 non-null   object \n",
      " 7   Terpene             3928 non-null   object \n",
      "dtypes: float64(2), object(6)\n",
      "memory usage: 245.6+ KB\n"
     ]
    }
   ],
   "source": [
    "df.info()"
   ]
  },
  {
   "cell_type": "markdown",
   "metadata": {},
   "source": []
  },
  {
   "cell_type": "code",
   "execution_count": 20,
   "metadata": {},
   "outputs": [
    {
     "data": {
      "text/html": [
       "<div>\n",
       "<style scoped>\n",
       "    .dataframe tbody tr th:only-of-type {\n",
       "        vertical-align: middle;\n",
       "    }\n",
       "\n",
       "    .dataframe tbody tr th {\n",
       "        vertical-align: top;\n",
       "    }\n",
       "\n",
       "    .dataframe thead th {\n",
       "        text-align: right;\n",
       "    }\n",
       "</style>\n",
       "<table border=\"1\" class=\"dataframe\">\n",
       "  <thead>\n",
       "    <tr style=\"text-align: right;\">\n",
       "      <th></th>\n",
       "      <th>Name</th>\n",
       "      <th>Type</th>\n",
       "      <th>Rating</th>\n",
       "      <th>Num_Reviews</th>\n",
       "      <th>THC%</th>\n",
       "      <th>Other_Cannabinoids</th>\n",
       "      <th>Main_Effect</th>\n",
       "      <th>Terpene</th>\n",
       "    </tr>\n",
       "  </thead>\n",
       "  <tbody>\n",
       "    <tr>\n",
       "      <th>0</th>\n",
       "      <td>Ice Cream Cake</td>\n",
       "      <td>Indica</td>\n",
       "      <td>4.6</td>\n",
       "      <td>1039.0</td>\n",
       "      <td>THC 23%</td>\n",
       "      <td>CBG 1%</td>\n",
       "      <td>Sleepy</td>\n",
       "      <td>Caryophyllene</td>\n",
       "    </tr>\n",
       "    <tr>\n",
       "      <th>1</th>\n",
       "      <td>Gelato</td>\n",
       "      <td>Hybrid</td>\n",
       "      <td>4.6</td>\n",
       "      <td>2219.0</td>\n",
       "      <td>THC 16%</td>\n",
       "      <td>CBD 0%</td>\n",
       "      <td>Euphoric</td>\n",
       "      <td>Caryophyllene</td>\n",
       "    </tr>\n",
       "    <tr>\n",
       "      <th>2</th>\n",
       "      <td>Blue Dream</td>\n",
       "      <td>Hybrid</td>\n",
       "      <td>4.3</td>\n",
       "      <td>14300.0</td>\n",
       "      <td>THC 18%</td>\n",
       "      <td>CBD 0%</td>\n",
       "      <td>Creative</td>\n",
       "      <td>Myrcene</td>\n",
       "    </tr>\n",
       "    <tr>\n",
       "      <th>3</th>\n",
       "      <td>Sour Diesel</td>\n",
       "      <td>Sativa</td>\n",
       "      <td>4.3</td>\n",
       "      <td>8264.0</td>\n",
       "      <td>THC 19%</td>\n",
       "      <td>CBD 0%</td>\n",
       "      <td>Energetic</td>\n",
       "      <td>Caryophyllene</td>\n",
       "    </tr>\n",
       "    <tr>\n",
       "      <th>4</th>\n",
       "      <td>Dosidos</td>\n",
       "      <td>Hybrid</td>\n",
       "      <td>4.6</td>\n",
       "      <td>1073.0</td>\n",
       "      <td>THC 20%</td>\n",
       "      <td>CBG 1%</td>\n",
       "      <td>Sleepy</td>\n",
       "      <td>Limonene</td>\n",
       "    </tr>\n",
       "    <tr>\n",
       "      <th>5</th>\n",
       "      <td>Apple Fritter</td>\n",
       "      <td>Hybrid</td>\n",
       "      <td>4.5</td>\n",
       "      <td>346.0</td>\n",
       "      <td>THC 25%</td>\n",
       "      <td>CBD 0%</td>\n",
       "      <td>Relaxed</td>\n",
       "      <td>Caryophyllene</td>\n",
       "    </tr>\n",
       "    <tr>\n",
       "      <th>6</th>\n",
       "      <td>GSC</td>\n",
       "      <td>Hybrid</td>\n",
       "      <td>4.4</td>\n",
       "      <td>7409.0</td>\n",
       "      <td>THC 19%</td>\n",
       "      <td>CBG 1%</td>\n",
       "      <td>Hungry</td>\n",
       "      <td>Caryophyllene</td>\n",
       "    </tr>\n",
       "    <tr>\n",
       "      <th>7</th>\n",
       "      <td>Zkittlez</td>\n",
       "      <td>Indica</td>\n",
       "      <td>4.5</td>\n",
       "      <td>857.0</td>\n",
       "      <td>THC 20%</td>\n",
       "      <td>CBG 1%</td>\n",
       "      <td>Relaxed</td>\n",
       "      <td>Caryophyllene</td>\n",
       "    </tr>\n",
       "    <tr>\n",
       "      <th>8</th>\n",
       "      <td>OG Kush</td>\n",
       "      <td>Hybrid</td>\n",
       "      <td>4.3</td>\n",
       "      <td>5476.0</td>\n",
       "      <td>THC 18%</td>\n",
       "      <td>CBD 0%</td>\n",
       "      <td>Hungry</td>\n",
       "      <td>Myrcene</td>\n",
       "    </tr>\n",
       "    <tr>\n",
       "      <th>9</th>\n",
       "      <td>Mac 1</td>\n",
       "      <td>Hybrid</td>\n",
       "      <td>4.7</td>\n",
       "      <td>353.0</td>\n",
       "      <td>THC 22%</td>\n",
       "      <td>CBG 1%</td>\n",
       "      <td>Uplifted</td>\n",
       "      <td>Limonene</td>\n",
       "    </tr>\n",
       "  </tbody>\n",
       "</table>\n",
       "</div>"
      ],
      "text/plain": [
       "             Name    Type  Rating  Num_Reviews     THC% Other_Cannabinoids  \\\n",
       "0  Ice Cream Cake  Indica     4.6       1039.0  THC 23%             CBG 1%   \n",
       "1          Gelato  Hybrid     4.6       2219.0  THC 16%             CBD 0%   \n",
       "2      Blue Dream  Hybrid     4.3      14300.0  THC 18%             CBD 0%   \n",
       "3     Sour Diesel  Sativa     4.3       8264.0  THC 19%             CBD 0%   \n",
       "4         Dosidos  Hybrid     4.6       1073.0  THC 20%             CBG 1%   \n",
       "5   Apple Fritter  Hybrid     4.5        346.0  THC 25%             CBD 0%   \n",
       "6             GSC  Hybrid     4.4       7409.0  THC 19%             CBG 1%   \n",
       "7        Zkittlez  Indica     4.5        857.0  THC 20%             CBG 1%   \n",
       "8         OG Kush  Hybrid     4.3       5476.0  THC 18%             CBD 0%   \n",
       "9           Mac 1  Hybrid     4.7        353.0  THC 22%             CBG 1%   \n",
       "\n",
       "  Main_Effect        Terpene  \n",
       "0      Sleepy  Caryophyllene  \n",
       "1    Euphoric  Caryophyllene  \n",
       "2    Creative        Myrcene  \n",
       "3   Energetic  Caryophyllene  \n",
       "4      Sleepy       Limonene  \n",
       "5     Relaxed  Caryophyllene  \n",
       "6      Hungry  Caryophyllene  \n",
       "7     Relaxed  Caryophyllene  \n",
       "8      Hungry        Myrcene  \n",
       "9    Uplifted       Limonene  "
      ]
     },
     "execution_count": 20,
     "metadata": {},
     "output_type": "execute_result"
    }
   ],
   "source": [
    "df.head(10)"
   ]
  },
  {
   "cell_type": "code",
   "execution_count": 21,
   "metadata": {},
   "outputs": [
    {
     "data": {
      "text/html": [
       "<div>\n",
       "<style scoped>\n",
       "    .dataframe tbody tr th:only-of-type {\n",
       "        vertical-align: middle;\n",
       "    }\n",
       "\n",
       "    .dataframe tbody tr th {\n",
       "        vertical-align: top;\n",
       "    }\n",
       "\n",
       "    .dataframe thead th {\n",
       "        text-align: right;\n",
       "    }\n",
       "</style>\n",
       "<table border=\"1\" class=\"dataframe\">\n",
       "  <thead>\n",
       "    <tr style=\"text-align: right;\">\n",
       "      <th></th>\n",
       "      <th>Type</th>\n",
       "      <th>total_review</th>\n",
       "    </tr>\n",
       "  </thead>\n",
       "  <tbody>\n",
       "    <tr>\n",
       "      <th>0</th>\n",
       "      <td>Hybrid</td>\n",
       "      <td>183826.0</td>\n",
       "    </tr>\n",
       "    <tr>\n",
       "      <th>1</th>\n",
       "      <td>Indica</td>\n",
       "      <td>80067.0</td>\n",
       "    </tr>\n",
       "    <tr>\n",
       "      <th>2</th>\n",
       "      <td>Sativa</td>\n",
       "      <td>75718.0</td>\n",
       "    </tr>\n",
       "    <tr>\n",
       "      <th>3</th>\n",
       "      <td>Unknown</td>\n",
       "      <td>1514.0</td>\n",
       "    </tr>\n",
       "  </tbody>\n",
       "</table>\n",
       "</div>"
      ],
      "text/plain": [
       "      Type  total_review\n",
       "0   Hybrid      183826.0\n",
       "1   Indica       80067.0\n",
       "2   Sativa       75718.0\n",
       "3  Unknown        1514.0"
      ]
     },
     "execution_count": 21,
     "metadata": {},
     "output_type": "execute_result"
    }
   ],
   "source": [
    "Best_type = df.groupby('Type')['Num_Reviews'].sum().reset_index(name='total_review').sort_values(by='total_review', ascending=False).head(10)\n",
    "\n",
    "Best_type"
   ]
  },
  {
   "cell_type": "code",
   "execution_count": 22,
   "metadata": {},
   "outputs": [],
   "source": [
    "df.to_csv('cleaned_strains.csv', index = False, encoding='utf-8') "
   ]
  },
  {
   "cell_type": "code",
   "execution_count": 23,
   "metadata": {},
   "outputs": [],
   "source": [
    "df.to_excel('canna_strains.xlsx',sheet_name ='Data')"
   ]
  }
 ],
 "metadata": {
  "kernelspec": {
   "display_name": "Python 3",
   "language": "python",
   "name": "python3"
  },
  "language_info": {
   "codemirror_mode": {
    "name": "ipython",
    "version": 3
   },
   "file_extension": ".py",
   "mimetype": "text/x-python",
   "name": "python",
   "nbconvert_exporter": "python",
   "pygments_lexer": "ipython3",
   "version": "3.11.1"
  }
 },
 "nbformat": 4,
 "nbformat_minor": 2
}
